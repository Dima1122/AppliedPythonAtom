{
 "cells": [
  {
   "cell_type": "code",
   "execution_count": 22,
   "metadata": {
    "ExecuteTime": {
     "end_time": "2019-04-02T10:11:09.014947Z",
     "start_time": "2019-04-02T10:11:08.585672Z"
    }
   },
   "outputs": [],
   "source": [
    "import numpy as np\n",
    "import pandas as pd\n",
    "\n",
    "import matplotlib.pyplot as plt\n",
    "%matplotlib inline"
   ]
  },
  {
   "cell_type": "markdown",
   "metadata": {},
   "source": [
    "# STEP 1. Скачайте датасет.\n",
    "\n",
    "Download the Adult training data set: http://archive.ics.uci.edu/ml/datasets/Adult\n",
    "(file adult.data)"
   ]
  },
  {
   "cell_type": "code",
   "execution_count": null,
   "metadata": {
    "ExecuteTime": {
     "end_time": "2019-04-02T10:10:52.702808Z",
     "start_time": "2019-04-02T10:09:48.402049Z"
    }
   },
   "outputs": [],
   "source": [
    "!wget http://archive.ics.uci.edu/ml/machine-learning-databases/adult/adult.data"
   ]
  },
  {
   "cell_type": "code",
   "execution_count": 2,
   "metadata": {
    "ExecuteTime": {
     "end_time": "2019-04-02T10:11:20.117251Z",
     "start_time": "2019-04-02T10:11:19.983901Z"
    },
    "scrolled": true
   },
   "outputs": [
    {
     "name": "stderr",
     "output_type": "stream",
     "text": [
      "\"head\" ­Ґ пў«пҐвбп ў­гваҐ­­Ґ© Ё«Ё ў­Ґи­Ґ©\n",
      "Є®¬ ­¤®©, ЁбЇ®«­пҐ¬®© Їа®Ја ¬¬®© Ё«Ё Ї ЄҐв­л¬ д ©«®¬.\n"
     ]
    }
   ],
   "source": [
    "!head adult.data"
   ]
  },
  {
   "cell_type": "markdown",
   "metadata": {},
   "source": [
    "# Step 2. Поймите формат и зачитайте adult.data в переменную df. Используйте cols чтобы дать нормальные названия колонкам.\n",
    "\n",
    "Обратите внимание на формат!"
   ]
  },
  {
   "cell_type": "code",
   "execution_count": 17,
   "metadata": {
    "ExecuteTime": {
     "end_time": "2019-04-02T10:20:44.038476Z",
     "start_time": "2019-04-02T10:20:44.029507Z"
    }
   },
   "outputs": [],
   "source": [
    "cols = ['age', 'workclass', 'fnlwgt', 'education', 'education-num', 'marital-status', 'occupation', 'relationship', 'race', 'sex', 'capital-gain', 'capital-loss', 'hours-per-week', 'native-country', 'result']"
   ]
  },
  {
   "cell_type": "code",
   "execution_count": 121,
   "metadata": {},
   "outputs": [],
   "source": [
    "df = pd.read_csv('adult.data', sep=',\\s+', names = cols, engine = 'python')"
   ]
  },
  {
   "cell_type": "code",
   "execution_count": 172,
   "metadata": {
    "ExecuteTime": {
     "end_time": "2019-04-02T10:37:02.277041Z",
     "start_time": "2019-04-02T10:37:02.246550Z"
    }
   },
   "outputs": [
    {
     "data": {
      "text/html": [
       "<div>\n",
       "<style scoped>\n",
       "    .dataframe tbody tr th:only-of-type {\n",
       "        vertical-align: middle;\n",
       "    }\n",
       "\n",
       "    .dataframe tbody tr th {\n",
       "        vertical-align: top;\n",
       "    }\n",
       "\n",
       "    .dataframe thead th {\n",
       "        text-align: right;\n",
       "    }\n",
       "</style>\n",
       "<table border=\"1\" class=\"dataframe\">\n",
       "  <thead>\n",
       "    <tr style=\"text-align: right;\">\n",
       "      <th></th>\n",
       "      <th>age</th>\n",
       "      <th>workclass</th>\n",
       "      <th>fnlwgt</th>\n",
       "      <th>education</th>\n",
       "      <th>education-num</th>\n",
       "      <th>marital-status</th>\n",
       "      <th>occupation</th>\n",
       "      <th>relationship</th>\n",
       "      <th>race</th>\n",
       "      <th>sex</th>\n",
       "      <th>capital-gain</th>\n",
       "      <th>capital-loss</th>\n",
       "      <th>hours-per-week</th>\n",
       "      <th>native-country</th>\n",
       "      <th>result</th>\n",
       "    </tr>\n",
       "  </thead>\n",
       "  <tbody>\n",
       "    <tr>\n",
       "      <th>15384</th>\n",
       "      <td>45</td>\n",
       "      <td>Local-gov</td>\n",
       "      <td>304973</td>\n",
       "      <td>HS-grad</td>\n",
       "      <td>9</td>\n",
       "      <td>Married-civ-spouse</td>\n",
       "      <td>Protective-serv</td>\n",
       "      <td>Husband</td>\n",
       "      <td>White</td>\n",
       "      <td>Male</td>\n",
       "      <td>0</td>\n",
       "      <td>0</td>\n",
       "      <td>78</td>\n",
       "      <td>United-States</td>\n",
       "      <td>&gt;50K</td>\n",
       "    </tr>\n",
       "    <tr>\n",
       "      <th>30904</th>\n",
       "      <td>22</td>\n",
       "      <td>Private</td>\n",
       "      <td>191444</td>\n",
       "      <td>HS-grad</td>\n",
       "      <td>9</td>\n",
       "      <td>Never-married</td>\n",
       "      <td>Sales</td>\n",
       "      <td>Other-relative</td>\n",
       "      <td>White</td>\n",
       "      <td>Male</td>\n",
       "      <td>0</td>\n",
       "      <td>0</td>\n",
       "      <td>40</td>\n",
       "      <td>United-States</td>\n",
       "      <td>&lt;=50K</td>\n",
       "    </tr>\n",
       "    <tr>\n",
       "      <th>29527</th>\n",
       "      <td>29</td>\n",
       "      <td>?</td>\n",
       "      <td>78529</td>\n",
       "      <td>10th</td>\n",
       "      <td>6</td>\n",
       "      <td>Separated</td>\n",
       "      <td>?</td>\n",
       "      <td>Unmarried</td>\n",
       "      <td>White</td>\n",
       "      <td>Female</td>\n",
       "      <td>0</td>\n",
       "      <td>0</td>\n",
       "      <td>12</td>\n",
       "      <td>United-States</td>\n",
       "      <td>&lt;=50K</td>\n",
       "    </tr>\n",
       "    <tr>\n",
       "      <th>28125</th>\n",
       "      <td>44</td>\n",
       "      <td>Private</td>\n",
       "      <td>159911</td>\n",
       "      <td>7th-8th</td>\n",
       "      <td>4</td>\n",
       "      <td>Married-civ-spouse</td>\n",
       "      <td>Other-service</td>\n",
       "      <td>Wife</td>\n",
       "      <td>White</td>\n",
       "      <td>Female</td>\n",
       "      <td>0</td>\n",
       "      <td>0</td>\n",
       "      <td>55</td>\n",
       "      <td>United-States</td>\n",
       "      <td>&lt;=50K</td>\n",
       "    </tr>\n",
       "    <tr>\n",
       "      <th>25886</th>\n",
       "      <td>62</td>\n",
       "      <td>Self-emp-not-inc</td>\n",
       "      <td>162249</td>\n",
       "      <td>HS-grad</td>\n",
       "      <td>9</td>\n",
       "      <td>Married-civ-spouse</td>\n",
       "      <td>Transport-moving</td>\n",
       "      <td>Husband</td>\n",
       "      <td>White</td>\n",
       "      <td>Male</td>\n",
       "      <td>0</td>\n",
       "      <td>0</td>\n",
       "      <td>30</td>\n",
       "      <td>United-States</td>\n",
       "      <td>&lt;=50K</td>\n",
       "    </tr>\n",
       "    <tr>\n",
       "      <th>10340</th>\n",
       "      <td>27</td>\n",
       "      <td>Private</td>\n",
       "      <td>156266</td>\n",
       "      <td>9th</td>\n",
       "      <td>5</td>\n",
       "      <td>Married-civ-spouse</td>\n",
       "      <td>Farming-fishing</td>\n",
       "      <td>Husband</td>\n",
       "      <td>Amer-Indian-Eskimo</td>\n",
       "      <td>Male</td>\n",
       "      <td>0</td>\n",
       "      <td>0</td>\n",
       "      <td>40</td>\n",
       "      <td>United-States</td>\n",
       "      <td>&lt;=50K</td>\n",
       "    </tr>\n",
       "    <tr>\n",
       "      <th>2091</th>\n",
       "      <td>29</td>\n",
       "      <td>?</td>\n",
       "      <td>410351</td>\n",
       "      <td>Bachelors</td>\n",
       "      <td>13</td>\n",
       "      <td>Never-married</td>\n",
       "      <td>?</td>\n",
       "      <td>Not-in-family</td>\n",
       "      <td>White</td>\n",
       "      <td>Male</td>\n",
       "      <td>0</td>\n",
       "      <td>0</td>\n",
       "      <td>40</td>\n",
       "      <td>United-States</td>\n",
       "      <td>&lt;=50K</td>\n",
       "    </tr>\n",
       "    <tr>\n",
       "      <th>14123</th>\n",
       "      <td>41</td>\n",
       "      <td>?</td>\n",
       "      <td>339682</td>\n",
       "      <td>5th-6th</td>\n",
       "      <td>3</td>\n",
       "      <td>Married-civ-spouse</td>\n",
       "      <td>?</td>\n",
       "      <td>Husband</td>\n",
       "      <td>White</td>\n",
       "      <td>Male</td>\n",
       "      <td>0</td>\n",
       "      <td>0</td>\n",
       "      <td>40</td>\n",
       "      <td>Mexico</td>\n",
       "      <td>&lt;=50K</td>\n",
       "    </tr>\n",
       "    <tr>\n",
       "      <th>9023</th>\n",
       "      <td>30</td>\n",
       "      <td>Private</td>\n",
       "      <td>203488</td>\n",
       "      <td>Some-college</td>\n",
       "      <td>10</td>\n",
       "      <td>Married-civ-spouse</td>\n",
       "      <td>Machine-op-inspct</td>\n",
       "      <td>Husband</td>\n",
       "      <td>White</td>\n",
       "      <td>Male</td>\n",
       "      <td>0</td>\n",
       "      <td>0</td>\n",
       "      <td>40</td>\n",
       "      <td>United-States</td>\n",
       "      <td>&gt;50K</td>\n",
       "    </tr>\n",
       "    <tr>\n",
       "      <th>30174</th>\n",
       "      <td>28</td>\n",
       "      <td>Private</td>\n",
       "      <td>209205</td>\n",
       "      <td>Bachelors</td>\n",
       "      <td>13</td>\n",
       "      <td>Never-married</td>\n",
       "      <td>Prof-specialty</td>\n",
       "      <td>Not-in-family</td>\n",
       "      <td>White</td>\n",
       "      <td>Male</td>\n",
       "      <td>0</td>\n",
       "      <td>0</td>\n",
       "      <td>60</td>\n",
       "      <td>United-States</td>\n",
       "      <td>&gt;50K</td>\n",
       "    </tr>\n",
       "    <tr>\n",
       "      <th>23600</th>\n",
       "      <td>41</td>\n",
       "      <td>Private</td>\n",
       "      <td>599629</td>\n",
       "      <td>Some-college</td>\n",
       "      <td>10</td>\n",
       "      <td>Married-civ-spouse</td>\n",
       "      <td>Adm-clerical</td>\n",
       "      <td>Wife</td>\n",
       "      <td>Black</td>\n",
       "      <td>Female</td>\n",
       "      <td>0</td>\n",
       "      <td>0</td>\n",
       "      <td>40</td>\n",
       "      <td>United-States</td>\n",
       "      <td>&gt;50K</td>\n",
       "    </tr>\n",
       "    <tr>\n",
       "      <th>24244</th>\n",
       "      <td>32</td>\n",
       "      <td>Private</td>\n",
       "      <td>160594</td>\n",
       "      <td>Some-college</td>\n",
       "      <td>10</td>\n",
       "      <td>Never-married</td>\n",
       "      <td>Other-service</td>\n",
       "      <td>Own-child</td>\n",
       "      <td>White</td>\n",
       "      <td>Male</td>\n",
       "      <td>0</td>\n",
       "      <td>0</td>\n",
       "      <td>35</td>\n",
       "      <td>United-States</td>\n",
       "      <td>&lt;=50K</td>\n",
       "    </tr>\n",
       "    <tr>\n",
       "      <th>16559</th>\n",
       "      <td>39</td>\n",
       "      <td>Private</td>\n",
       "      <td>180667</td>\n",
       "      <td>Some-college</td>\n",
       "      <td>10</td>\n",
       "      <td>Married-civ-spouse</td>\n",
       "      <td>Machine-op-inspct</td>\n",
       "      <td>Husband</td>\n",
       "      <td>White</td>\n",
       "      <td>Male</td>\n",
       "      <td>0</td>\n",
       "      <td>0</td>\n",
       "      <td>40</td>\n",
       "      <td>United-States</td>\n",
       "      <td>&lt;=50K</td>\n",
       "    </tr>\n",
       "    <tr>\n",
       "      <th>16009</th>\n",
       "      <td>48</td>\n",
       "      <td>Private</td>\n",
       "      <td>118889</td>\n",
       "      <td>HS-grad</td>\n",
       "      <td>9</td>\n",
       "      <td>Married-civ-spouse</td>\n",
       "      <td>Sales</td>\n",
       "      <td>Husband</td>\n",
       "      <td>White</td>\n",
       "      <td>Male</td>\n",
       "      <td>2885</td>\n",
       "      <td>0</td>\n",
       "      <td>15</td>\n",
       "      <td>United-States</td>\n",
       "      <td>&lt;=50K</td>\n",
       "    </tr>\n",
       "    <tr>\n",
       "      <th>4140</th>\n",
       "      <td>43</td>\n",
       "      <td>State-gov</td>\n",
       "      <td>125405</td>\n",
       "      <td>HS-grad</td>\n",
       "      <td>9</td>\n",
       "      <td>Married-civ-spouse</td>\n",
       "      <td>Protective-serv</td>\n",
       "      <td>Husband</td>\n",
       "      <td>White</td>\n",
       "      <td>Male</td>\n",
       "      <td>0</td>\n",
       "      <td>0</td>\n",
       "      <td>40</td>\n",
       "      <td>United-States</td>\n",
       "      <td>&lt;=50K</td>\n",
       "    </tr>\n",
       "    <tr>\n",
       "      <th>21121</th>\n",
       "      <td>68</td>\n",
       "      <td>Self-emp-not-inc</td>\n",
       "      <td>234859</td>\n",
       "      <td>Some-college</td>\n",
       "      <td>10</td>\n",
       "      <td>Married-civ-spouse</td>\n",
       "      <td>Other-service</td>\n",
       "      <td>Husband</td>\n",
       "      <td>White</td>\n",
       "      <td>Male</td>\n",
       "      <td>0</td>\n",
       "      <td>0</td>\n",
       "      <td>30</td>\n",
       "      <td>United-States</td>\n",
       "      <td>&lt;=50K</td>\n",
       "    </tr>\n",
       "    <tr>\n",
       "      <th>14250</th>\n",
       "      <td>59</td>\n",
       "      <td>Private</td>\n",
       "      <td>95165</td>\n",
       "      <td>Doctorate</td>\n",
       "      <td>16</td>\n",
       "      <td>Married-civ-spouse</td>\n",
       "      <td>Sales</td>\n",
       "      <td>Husband</td>\n",
       "      <td>White</td>\n",
       "      <td>Male</td>\n",
       "      <td>0</td>\n",
       "      <td>0</td>\n",
       "      <td>40</td>\n",
       "      <td>United-States</td>\n",
       "      <td>&lt;=50K</td>\n",
       "    </tr>\n",
       "    <tr>\n",
       "      <th>29589</th>\n",
       "      <td>21</td>\n",
       "      <td>Private</td>\n",
       "      <td>108687</td>\n",
       "      <td>Some-college</td>\n",
       "      <td>10</td>\n",
       "      <td>Never-married</td>\n",
       "      <td>Sales</td>\n",
       "      <td>Own-child</td>\n",
       "      <td>White</td>\n",
       "      <td>Female</td>\n",
       "      <td>0</td>\n",
       "      <td>0</td>\n",
       "      <td>40</td>\n",
       "      <td>United-States</td>\n",
       "      <td>&lt;=50K</td>\n",
       "    </tr>\n",
       "    <tr>\n",
       "      <th>7739</th>\n",
       "      <td>51</td>\n",
       "      <td>Private</td>\n",
       "      <td>193374</td>\n",
       "      <td>1st-4th</td>\n",
       "      <td>2</td>\n",
       "      <td>Married-civ-spouse</td>\n",
       "      <td>Craft-repair</td>\n",
       "      <td>Husband</td>\n",
       "      <td>White</td>\n",
       "      <td>Male</td>\n",
       "      <td>0</td>\n",
       "      <td>0</td>\n",
       "      <td>40</td>\n",
       "      <td>Mexico</td>\n",
       "      <td>&lt;=50K</td>\n",
       "    </tr>\n",
       "    <tr>\n",
       "      <th>22989</th>\n",
       "      <td>52</td>\n",
       "      <td>Federal-gov</td>\n",
       "      <td>38973</td>\n",
       "      <td>Bachelors</td>\n",
       "      <td>13</td>\n",
       "      <td>Separated</td>\n",
       "      <td>Adm-clerical</td>\n",
       "      <td>Unmarried</td>\n",
       "      <td>Black</td>\n",
       "      <td>Female</td>\n",
       "      <td>0</td>\n",
       "      <td>0</td>\n",
       "      <td>40</td>\n",
       "      <td>United-States</td>\n",
       "      <td>&lt;=50K</td>\n",
       "    </tr>\n",
       "    <tr>\n",
       "      <th>21290</th>\n",
       "      <td>53</td>\n",
       "      <td>Self-emp-not-inc</td>\n",
       "      <td>98829</td>\n",
       "      <td>Bachelors</td>\n",
       "      <td>13</td>\n",
       "      <td>Married-civ-spouse</td>\n",
       "      <td>Prof-specialty</td>\n",
       "      <td>Husband</td>\n",
       "      <td>White</td>\n",
       "      <td>Male</td>\n",
       "      <td>0</td>\n",
       "      <td>0</td>\n",
       "      <td>50</td>\n",
       "      <td>United-States</td>\n",
       "      <td>&lt;=50K</td>\n",
       "    </tr>\n",
       "    <tr>\n",
       "      <th>6141</th>\n",
       "      <td>54</td>\n",
       "      <td>Private</td>\n",
       "      <td>172281</td>\n",
       "      <td>HS-grad</td>\n",
       "      <td>9</td>\n",
       "      <td>Married-civ-spouse</td>\n",
       "      <td>Transport-moving</td>\n",
       "      <td>Husband</td>\n",
       "      <td>White</td>\n",
       "      <td>Male</td>\n",
       "      <td>0</td>\n",
       "      <td>2051</td>\n",
       "      <td>50</td>\n",
       "      <td>United-States</td>\n",
       "      <td>&lt;=50K</td>\n",
       "    </tr>\n",
       "    <tr>\n",
       "      <th>29971</th>\n",
       "      <td>64</td>\n",
       "      <td>Self-emp-inc</td>\n",
       "      <td>161325</td>\n",
       "      <td>Assoc-acdm</td>\n",
       "      <td>12</td>\n",
       "      <td>Married-civ-spouse</td>\n",
       "      <td>Sales</td>\n",
       "      <td>Husband</td>\n",
       "      <td>White</td>\n",
       "      <td>Male</td>\n",
       "      <td>0</td>\n",
       "      <td>1887</td>\n",
       "      <td>50</td>\n",
       "      <td>United-States</td>\n",
       "      <td>&gt;50K</td>\n",
       "    </tr>\n",
       "    <tr>\n",
       "      <th>27841</th>\n",
       "      <td>38</td>\n",
       "      <td>Private</td>\n",
       "      <td>114591</td>\n",
       "      <td>Bachelors</td>\n",
       "      <td>13</td>\n",
       "      <td>Married-civ-spouse</td>\n",
       "      <td>Prof-specialty</td>\n",
       "      <td>Wife</td>\n",
       "      <td>White</td>\n",
       "      <td>Female</td>\n",
       "      <td>15024</td>\n",
       "      <td>0</td>\n",
       "      <td>40</td>\n",
       "      <td>United-States</td>\n",
       "      <td>&gt;50K</td>\n",
       "    </tr>\n",
       "    <tr>\n",
       "      <th>11763</th>\n",
       "      <td>25</td>\n",
       "      <td>Private</td>\n",
       "      <td>197651</td>\n",
       "      <td>Some-college</td>\n",
       "      <td>10</td>\n",
       "      <td>Never-married</td>\n",
       "      <td>Tech-support</td>\n",
       "      <td>Own-child</td>\n",
       "      <td>White</td>\n",
       "      <td>Female</td>\n",
       "      <td>0</td>\n",
       "      <td>0</td>\n",
       "      <td>43</td>\n",
       "      <td>United-States</td>\n",
       "      <td>&lt;=50K</td>\n",
       "    </tr>\n",
       "    <tr>\n",
       "      <th>2730</th>\n",
       "      <td>54</td>\n",
       "      <td>Private</td>\n",
       "      <td>96710</td>\n",
       "      <td>HS-grad</td>\n",
       "      <td>9</td>\n",
       "      <td>Married-civ-spouse</td>\n",
       "      <td>Priv-house-serv</td>\n",
       "      <td>Other-relative</td>\n",
       "      <td>Black</td>\n",
       "      <td>Female</td>\n",
       "      <td>0</td>\n",
       "      <td>0</td>\n",
       "      <td>20</td>\n",
       "      <td>United-States</td>\n",
       "      <td>&lt;=50K</td>\n",
       "    </tr>\n",
       "    <tr>\n",
       "      <th>10031</th>\n",
       "      <td>19</td>\n",
       "      <td>Private</td>\n",
       "      <td>208513</td>\n",
       "      <td>HS-grad</td>\n",
       "      <td>9</td>\n",
       "      <td>Never-married</td>\n",
       "      <td>Craft-repair</td>\n",
       "      <td>Other-relative</td>\n",
       "      <td>White</td>\n",
       "      <td>Male</td>\n",
       "      <td>0</td>\n",
       "      <td>0</td>\n",
       "      <td>40</td>\n",
       "      <td>United-States</td>\n",
       "      <td>&lt;=50K</td>\n",
       "    </tr>\n",
       "    <tr>\n",
       "      <th>16619</th>\n",
       "      <td>36</td>\n",
       "      <td>Private</td>\n",
       "      <td>175360</td>\n",
       "      <td>Masters</td>\n",
       "      <td>14</td>\n",
       "      <td>Never-married</td>\n",
       "      <td>Adm-clerical</td>\n",
       "      <td>Not-in-family</td>\n",
       "      <td>White</td>\n",
       "      <td>Male</td>\n",
       "      <td>13550</td>\n",
       "      <td>0</td>\n",
       "      <td>50</td>\n",
       "      <td>United-States</td>\n",
       "      <td>&gt;50K</td>\n",
       "    </tr>\n",
       "    <tr>\n",
       "      <th>11989</th>\n",
       "      <td>43</td>\n",
       "      <td>Private</td>\n",
       "      <td>118536</td>\n",
       "      <td>HS-grad</td>\n",
       "      <td>9</td>\n",
       "      <td>Divorced</td>\n",
       "      <td>Machine-op-inspct</td>\n",
       "      <td>Other-relative</td>\n",
       "      <td>Black</td>\n",
       "      <td>Male</td>\n",
       "      <td>0</td>\n",
       "      <td>0</td>\n",
       "      <td>40</td>\n",
       "      <td>United-States</td>\n",
       "      <td>&lt;=50K</td>\n",
       "    </tr>\n",
       "    <tr>\n",
       "      <th>10774</th>\n",
       "      <td>26</td>\n",
       "      <td>Local-gov</td>\n",
       "      <td>150226</td>\n",
       "      <td>Bachelors</td>\n",
       "      <td>13</td>\n",
       "      <td>Never-married</td>\n",
       "      <td>Prof-specialty</td>\n",
       "      <td>Own-child</td>\n",
       "      <td>White</td>\n",
       "      <td>Female</td>\n",
       "      <td>0</td>\n",
       "      <td>0</td>\n",
       "      <td>35</td>\n",
       "      <td>United-States</td>\n",
       "      <td>&lt;=50K</td>\n",
       "    </tr>\n",
       "  </tbody>\n",
       "</table>\n",
       "</div>"
      ],
      "text/plain": [
       "       age         workclass  fnlwgt     education  education-num  \\\n",
       "15384   45         Local-gov  304973       HS-grad              9   \n",
       "30904   22           Private  191444       HS-grad              9   \n",
       "29527   29                 ?   78529          10th              6   \n",
       "28125   44           Private  159911       7th-8th              4   \n",
       "25886   62  Self-emp-not-inc  162249       HS-grad              9   \n",
       "10340   27           Private  156266           9th              5   \n",
       "2091    29                 ?  410351     Bachelors             13   \n",
       "14123   41                 ?  339682       5th-6th              3   \n",
       "9023    30           Private  203488  Some-college             10   \n",
       "30174   28           Private  209205     Bachelors             13   \n",
       "23600   41           Private  599629  Some-college             10   \n",
       "24244   32           Private  160594  Some-college             10   \n",
       "16559   39           Private  180667  Some-college             10   \n",
       "16009   48           Private  118889       HS-grad              9   \n",
       "4140    43         State-gov  125405       HS-grad              9   \n",
       "21121   68  Self-emp-not-inc  234859  Some-college             10   \n",
       "14250   59           Private   95165     Doctorate             16   \n",
       "29589   21           Private  108687  Some-college             10   \n",
       "7739    51           Private  193374       1st-4th              2   \n",
       "22989   52       Federal-gov   38973     Bachelors             13   \n",
       "21290   53  Self-emp-not-inc   98829     Bachelors             13   \n",
       "6141    54           Private  172281       HS-grad              9   \n",
       "29971   64      Self-emp-inc  161325    Assoc-acdm             12   \n",
       "27841   38           Private  114591     Bachelors             13   \n",
       "11763   25           Private  197651  Some-college             10   \n",
       "2730    54           Private   96710       HS-grad              9   \n",
       "10031   19           Private  208513       HS-grad              9   \n",
       "16619   36           Private  175360       Masters             14   \n",
       "11989   43           Private  118536       HS-grad              9   \n",
       "10774   26         Local-gov  150226     Bachelors             13   \n",
       "\n",
       "           marital-status         occupation    relationship  \\\n",
       "15384  Married-civ-spouse    Protective-serv         Husband   \n",
       "30904       Never-married              Sales  Other-relative   \n",
       "29527           Separated                  ?       Unmarried   \n",
       "28125  Married-civ-spouse      Other-service            Wife   \n",
       "25886  Married-civ-spouse   Transport-moving         Husband   \n",
       "10340  Married-civ-spouse    Farming-fishing         Husband   \n",
       "2091        Never-married                  ?   Not-in-family   \n",
       "14123  Married-civ-spouse                  ?         Husband   \n",
       "9023   Married-civ-spouse  Machine-op-inspct         Husband   \n",
       "30174       Never-married     Prof-specialty   Not-in-family   \n",
       "23600  Married-civ-spouse       Adm-clerical            Wife   \n",
       "24244       Never-married      Other-service       Own-child   \n",
       "16559  Married-civ-spouse  Machine-op-inspct         Husband   \n",
       "16009  Married-civ-spouse              Sales         Husband   \n",
       "4140   Married-civ-spouse    Protective-serv         Husband   \n",
       "21121  Married-civ-spouse      Other-service         Husband   \n",
       "14250  Married-civ-spouse              Sales         Husband   \n",
       "29589       Never-married              Sales       Own-child   \n",
       "7739   Married-civ-spouse       Craft-repair         Husband   \n",
       "22989           Separated       Adm-clerical       Unmarried   \n",
       "21290  Married-civ-spouse     Prof-specialty         Husband   \n",
       "6141   Married-civ-spouse   Transport-moving         Husband   \n",
       "29971  Married-civ-spouse              Sales         Husband   \n",
       "27841  Married-civ-spouse     Prof-specialty            Wife   \n",
       "11763       Never-married       Tech-support       Own-child   \n",
       "2730   Married-civ-spouse    Priv-house-serv  Other-relative   \n",
       "10031       Never-married       Craft-repair  Other-relative   \n",
       "16619       Never-married       Adm-clerical   Not-in-family   \n",
       "11989            Divorced  Machine-op-inspct  Other-relative   \n",
       "10774       Never-married     Prof-specialty       Own-child   \n",
       "\n",
       "                     race     sex  capital-gain  capital-loss  hours-per-week  \\\n",
       "15384               White    Male             0             0              78   \n",
       "30904               White    Male             0             0              40   \n",
       "29527               White  Female             0             0              12   \n",
       "28125               White  Female             0             0              55   \n",
       "25886               White    Male             0             0              30   \n",
       "10340  Amer-Indian-Eskimo    Male             0             0              40   \n",
       "2091                White    Male             0             0              40   \n",
       "14123               White    Male             0             0              40   \n",
       "9023                White    Male             0             0              40   \n",
       "30174               White    Male             0             0              60   \n",
       "23600               Black  Female             0             0              40   \n",
       "24244               White    Male             0             0              35   \n",
       "16559               White    Male             0             0              40   \n",
       "16009               White    Male          2885             0              15   \n",
       "4140                White    Male             0             0              40   \n",
       "21121               White    Male             0             0              30   \n",
       "14250               White    Male             0             0              40   \n",
       "29589               White  Female             0             0              40   \n",
       "7739                White    Male             0             0              40   \n",
       "22989               Black  Female             0             0              40   \n",
       "21290               White    Male             0             0              50   \n",
       "6141                White    Male             0          2051              50   \n",
       "29971               White    Male             0          1887              50   \n",
       "27841               White  Female         15024             0              40   \n",
       "11763               White  Female             0             0              43   \n",
       "2730                Black  Female             0             0              20   \n",
       "10031               White    Male             0             0              40   \n",
       "16619               White    Male         13550             0              50   \n",
       "11989               Black    Male             0             0              40   \n",
       "10774               White  Female             0             0              35   \n",
       "\n",
       "      native-country result  \n",
       "15384  United-States   >50K  \n",
       "30904  United-States  <=50K  \n",
       "29527  United-States  <=50K  \n",
       "28125  United-States  <=50K  \n",
       "25886  United-States  <=50K  \n",
       "10340  United-States  <=50K  \n",
       "2091   United-States  <=50K  \n",
       "14123         Mexico  <=50K  \n",
       "9023   United-States   >50K  \n",
       "30174  United-States   >50K  \n",
       "23600  United-States   >50K  \n",
       "24244  United-States  <=50K  \n",
       "16559  United-States  <=50K  \n",
       "16009  United-States  <=50K  \n",
       "4140   United-States  <=50K  \n",
       "21121  United-States  <=50K  \n",
       "14250  United-States  <=50K  \n",
       "29589  United-States  <=50K  \n",
       "7739          Mexico  <=50K  \n",
       "22989  United-States  <=50K  \n",
       "21290  United-States  <=50K  \n",
       "6141   United-States  <=50K  \n",
       "29971  United-States   >50K  \n",
       "27841  United-States   >50K  \n",
       "11763  United-States  <=50K  \n",
       "2730   United-States  <=50K  \n",
       "10031  United-States  <=50K  \n",
       "16619  United-States   >50K  \n",
       "11989  United-States  <=50K  \n",
       "10774  United-States  <=50K  "
      ]
     },
     "execution_count": 172,
     "metadata": {},
     "output_type": "execute_result"
    }
   ],
   "source": [
    "df.sample(30)"
   ]
  },
  {
   "cell_type": "code",
   "execution_count": null,
   "metadata": {},
   "outputs": [],
   "source": []
  },
  {
   "cell_type": "markdown",
   "metadata": {},
   "source": [
    "# Сколько мужчин и женщин?"
   ]
  },
  {
   "cell_type": "code",
   "execution_count": 123,
   "metadata": {},
   "outputs": [
    {
     "data": {
      "text/plain": [
       "Male      21790\n",
       "Female    10771\n",
       "Name: sex, dtype: int64"
      ]
     },
     "execution_count": 123,
     "metadata": {},
     "output_type": "execute_result"
    }
   ],
   "source": [
    "df['sex'].value_counts()"
   ]
  },
  {
   "cell_type": "markdown",
   "metadata": {},
   "source": [
    "# Средний возраст мужчин и женщин?"
   ]
  },
  {
   "cell_type": "code",
   "execution_count": 124,
   "metadata": {},
   "outputs": [
    {
     "data": {
      "text/plain": [
       "sex\n",
       "Female    36.858230\n",
       "Male      39.433547\n",
       "Name: age, dtype: float64"
      ]
     },
     "execution_count": 124,
     "metadata": {},
     "output_type": "execute_result"
    }
   ],
   "source": [
    "df.groupby('sex')['age'].mean()"
   ]
  },
  {
   "cell_type": "markdown",
   "metadata": {},
   "source": [
    "# Какая доля граждан США (United-States) в данном датасете?"
   ]
  },
  {
   "cell_type": "code",
   "execution_count": 129,
   "metadata": {},
   "outputs": [
    {
     "data": {
      "text/plain": [
       "0.895857006848684"
      ]
     },
     "execution_count": 129,
     "metadata": {},
     "output_type": "execute_result"
    }
   ],
   "source": [
    "df['native-country'].value_counts()['United-States']/df.shape[0]"
   ]
  },
  {
   "cell_type": "code",
   "execution_count": null,
   "metadata": {},
   "outputs": [],
   "source": []
  },
  {
   "cell_type": "markdown",
   "metadata": {},
   "source": [
    "# Нарисуйте распределние образования людей (используйте bar plot)\n",
    "\n",
    "Подпишите график и оси."
   ]
  },
  {
   "cell_type": "code",
   "execution_count": 158,
   "metadata": {},
   "outputs": [
    {
     "data": {
      "text/plain": [
       "<BarContainer object of 16 artists>"
      ]
     },
     "execution_count": 158,
     "metadata": {},
     "output_type": "execute_result"
    },
    {
     "data": {
      "image/png": "[encoded data removed]",
      "text/plain": [
       "<Figure size 1296x576 with 1 Axes>"
      ]
     },
     "metadata": {
      "needs_background": "light"
     },
     "output_type": "display_data"
    }
   ],
   "source": [
    "groupped = df.groupby('education').size().sort_values()\n",
    "plt.figure(figsize=(18, 8))\n",
    "plt.ylabel('number of such educators')\n",
    "plt.xlabel('name of programme')\n",
    "plt.title('Education distribution');\n",
    "plt.bar(groupped.index, groupped.values)"
   ]
  },
  {
   "cell_type": "markdown",
   "metadata": {},
   "source": [
    "# Какое среднее значние и квадратичное отклонение (std) fnlwgt (”final weight”) разведенных (divorced people) людей. Нарисуйте гистрограмму (Какое распределение оно вам напоминает?)"
   ]
  },
  {
   "cell_type": "code",
   "execution_count": 204,
   "metadata": {},
   "outputs": [],
   "source": [
    "import scipy.stats as st"
   ]
  },
  {
   "cell_type": "code",
   "execution_count": 180,
   "metadata": {},
   "outputs": [
    {
     "data": {
      "text/plain": [
       "mean    185802.790457\n",
       "std     105646.789459\n",
       "Name: fnlwgt, dtype: float64"
      ]
     },
     "execution_count": 180,
     "metadata": {},
     "output_type": "execute_result"
    }
   ],
   "source": [
    "df[df['marital-status'] == 'Divorced'].describe()['fnlwgt'].iloc[[1, 2]]"
   ]
  },
  {
   "cell_type": "code",
   "execution_count": 226,
   "metadata": {},
   "outputs": [
    {
     "data": {
      "text/plain": [
       "[<matplotlib.lines.Line2D at 0x259031e7358>]"
      ]
     },
     "execution_count": 226,
     "metadata": {},
     "output_type": "execute_result"
    },
    {
     "data": {
      "image/png": "[encoded data removed]",
      "text/plain": [
       "<Figure size 432x288 with 1 Axes>"
      ]
     },
     "metadata": {
      "needs_background": "light"
     },
     "output_type": "display_data"
    }
   ],
   "source": [
    "divorced_fnlwgt = df[df['marital-status'] == 'Divorced']['fnlwgt']\n",
    "info = plt.hist(divorced_fnlwgt, bins = 50)\n",
    "plt.plot(info[1][:50], info[0])"
   ]
  },
  {
   "cell_type": "markdown",
   "metadata": {},
   "source": [
    "> Ответ: оно мне напоминает Хи-квадрат распределение"
   ]
  },
  {
   "cell_type": "markdown",
   "metadata": {},
   "source": [
    "# Правда ли, что большинство людей, из тех кто получает больше 50k, с высшим образованием  (BSc, MSc, PhD - ????)"
   ]
  },
  {
   "cell_type": "code",
   "execution_count": 267,
   "metadata": {},
   "outputs": [],
   "source": [
    "rich_guys = df[df['result'] == '>50K']\n",
    "rich_guys_w_gd_education = rich_guys['education'].value_counts()"
   ]
  },
  {
   "cell_type": "code",
   "execution_count": 272,
   "metadata": {},
   "outputs": [
    {
     "name": "stdout",
     "output_type": "stream",
     "text": [
      "44.46% получают зарплату свыше 50к и имеют высшее образование\n"
     ]
    }
   ],
   "source": [
    "res = 100*(rich_guys_w_gd_edu['Bachelors'] + rich_guys_w_gd_edu['Masters'] + rich_guys_w_gd_edu['Doctorate'])/len(rich_guys)\n",
    "print('{}% получают зарплату свыше 50к и имеют высшее образование'.format(round(res, 2)))"
   ]
  },
  {
   "cell_type": "markdown",
   "metadata": {},
   "source": [
    "> Ответ: Нет"
   ]
  },
  {
   "cell_type": "code",
   "execution_count": null,
   "metadata": {},
   "outputs": [],
   "source": []
  },
  {
   "cell_type": "markdown",
   "metadata": {},
   "source": [
    "# Сколько в среднем работают люди в неделю в зависимости от education?"
   ]
  },
  {
   "cell_type": "code",
   "execution_count": 273,
   "metadata": {},
   "outputs": [
    {
     "data": {
      "text/plain": [
       "education\n",
       "11th            33.925957\n",
       "12th            35.780600\n",
       "Preschool       36.647059\n",
       "10th            37.052519\n",
       "9th             38.044747\n",
       "1st-4th         38.255952\n",
       "Some-college    38.852284\n",
       "5th-6th         38.897898\n",
       "7th-8th         39.366873\n",
       "Assoc-acdm      40.504217\n",
       "HS-grad         40.575374\n",
       "Assoc-voc       41.610709\n",
       "Bachelors       42.614006\n",
       "Masters         43.836332\n",
       "Doctorate       46.973366\n",
       "Prof-school     47.425347\n",
       "Name: hours-per-week, dtype: float64"
      ]
     },
     "execution_count": 273,
     "metadata": {},
     "output_type": "execute_result"
    }
   ],
   "source": [
    "df.groupby('education')['hours-per-week'].mean().sort_values()"
   ]
  },
  {
   "cell_type": "markdown",
   "metadata": {},
   "source": [
    "# Кто больше работает в неделю - мужчины или женщины?"
   ]
  },
  {
   "cell_type": "code",
   "execution_count": 275,
   "metadata": {},
   "outputs": [
    {
     "data": {
      "text/plain": [
       "sex\n",
       "Female    36.410361\n",
       "Male      42.428086\n",
       "Name: hours-per-week, dtype: float64"
      ]
     },
     "execution_count": 275,
     "metadata": {},
     "output_type": "execute_result"
    }
   ],
   "source": [
    "df.groupby('sex')['hours-per-week'].mean()"
   ]
  },
  {
   "cell_type": "markdown",
   "metadata": {},
   "source": [
    "Мужчины-трудоголики "
   ]
  },
  {
   "cell_type": "markdown",
   "metadata": {},
   "source": [
    "# Кто больше работает в неделю - те кто в отношениях или те кто нет?"
   ]
  },
  {
   "cell_type": "code",
   "execution_count": 279,
   "metadata": {},
   "outputs": [
    {
     "name": "stdout",
     "output_type": "stream",
     "text": [
      "В отношениях: 43.35 часов, не в отношениях: 40.16 часов\n"
     ]
    }
   ],
   "source": [
    "in_rel = round(df[df['relationship'].isin(['Husband', 'Wife'])]['hours-per-week'].mean(),2)\n",
    "not_in_rel = round(df[df['relationship'].isin(['Not-in-family', 'Unmarried'])]['hours-per-week'].mean(), 2)\n",
    "\n",
    "print('В отношениях: {} часов, не в отношениях: {} часов'.format(in_rel, not_in_rel))"
   ]
  },
  {
   "cell_type": "markdown",
   "metadata": {},
   "source": [
    "Ответ: те, кто в отношениях"
   ]
  },
  {
   "cell_type": "markdown",
   "metadata": {},
   "source": [
    "# Из каких стран люди работают farmers/fishers?"
   ]
  },
  {
   "cell_type": "code",
   "execution_count": 280,
   "metadata": {},
   "outputs": [
    {
     "data": {
      "text/plain": [
       "array(['United-States', 'Cambodia', 'Poland', 'Guatemala', 'Mexico',\n",
       "       'England', '?', 'Philippines', 'Italy', 'Puerto-Rico', 'Vietnam',\n",
       "       'Germany', 'Japan', 'Canada', 'Yugoslavia', 'Cuba', 'Portugal',\n",
       "       'El-Salvador', 'Hong', 'Ireland', 'France'], dtype=object)"
      ]
     },
     "execution_count": 280,
     "metadata": {},
     "output_type": "execute_result"
    }
   ],
   "source": [
    "df[df['occupation'] == 'Farming-fishing']['native-country'].unique()"
   ]
  },
  {
   "cell_type": "markdown",
   "metadata": {},
   "source": [
    "# Сколько максимум работают люди в неделю? Как много таких людей кто работает наибольшее количество часов? Какой у них доход (распечатать)?"
   ]
  },
  {
   "cell_type": "code",
   "execution_count": 282,
   "metadata": {},
   "outputs": [
    {
     "name": "stdout",
     "output_type": "stream",
     "text": [
      "Максимум в неделю работают по 99 часов\n"
     ]
    }
   ],
   "source": [
    "maxh = df['hours-per-week'].max()\n",
    "print(\"Максимум в неделю работают по {} часов\".format(maxh))"
   ]
  },
  {
   "cell_type": "code",
   "execution_count": 284,
   "metadata": {},
   "outputs": [
    {
     "name": "stdout",
     "output_type": "stream",
     "text": [
      "85 людей работают по 99 часов\n"
     ]
    }
   ],
   "source": [
    "npeople = len(df[df['hours-per-week'] == df['hours-per-week'].max()])\n",
    "print('{} людей работают по {} часов'.format(npeople, maxh))"
   ]
  },
  {
   "cell_type": "code",
   "execution_count": 285,
   "metadata": {},
   "outputs": [
    {
     "data": {
      "text/plain": [
       "<=50K    60\n",
       ">50K     25\n",
       "Name: result, dtype: int64"
      ]
     },
     "execution_count": 285,
     "metadata": {},
     "output_type": "execute_result"
    }
   ],
   "source": [
    "df[df['hours-per-week'] == df['hours-per-week'].max()]['result'].value_counts()"
   ]
  },
  {
   "cell_type": "code",
   "execution_count": null,
   "metadata": {},
   "outputs": [],
   "source": []
  }
 ],
 "metadata": {
  "kernelspec": {
   "display_name": "Python 3",
   "language": "python",
   "name": "python3"
  },
  "language_info": {
   "codemirror_mode": {
    "name": "ipython",
    "version": 3
   },
   "file_extension": ".py",
   "mimetype": "text/x-python",
   "name": "python",
   "nbconvert_exporter": "python",
   "pygments_lexer": "ipython3",
   "version": "3.6.5"
  }
 },
 "nbformat": 4,
 "nbformat_minor": 2
}
